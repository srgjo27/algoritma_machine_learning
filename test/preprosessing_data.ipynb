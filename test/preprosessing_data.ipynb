{
 "cells": [
  {
   "cell_type": "code",
   "execution_count": 2,
   "metadata": {},
   "outputs": [],
   "source": [
    "# import library\n",
    "import pandas as pd\n",
    "import re\n",
    "from Sastrawi.Stemmer.StemmerFactory import StemmerFactory\n",
    "from nltk.corpus import stopwords\n",
    "from nltk.tokenize import word_tokenize"
   ]
  },
  {
   "cell_type": "code",
   "execution_count": 3,
   "metadata": {},
   "outputs": [],
   "source": [
    "# Load data from CSV\n",
    "products_df = pd.read_csv('../data/csv/products.csv')\n",
    "profiles_rating_df = pd.read_csv('../data/csv/profiles_rating.csv')"
   ]
  },
  {
   "cell_type": "code",
   "execution_count": null,
   "metadata": {},
   "outputs": [],
   "source": [
    "# Case folding\n",
    "columns_to_fold = ['name', 'brand', 'skin_type', 'type', 'description']\n",
    "columns_to_fold_profiles = ['skin_type_face', 'hair_issue', 'skin_type_body', \n",
    "                            'allergy_history', 'preferred_products', \n",
    "                            'avoided_products', 'specific_needs']\n",
    "\n",
    "for column in columns_to_fold:\n",
    "    products_df[column] = products_df[column].str.lower()\n",
    "\n",
    "for column in columns_to_fold_profiles:\n",
    "    profiles_rating_df[column] = profiles_rating_df[column].str.lower()"
   ]
  },
  {
   "cell_type": "code",
   "execution_count": null,
   "metadata": {},
   "outputs": [],
   "source": [
    "# Punctuational removal\n",
    "def remove_punctuation(text):\n",
    "    return re.sub(r'[^\\w\\s]', '', text)\n",
    "\n",
    "columns_to_clean = ['name', 'brand', 'skin_type', 'type', 'description']\n",
    "columns_to_clean_profiles = ['skin_type_face', 'hair_issue', 'skin_type_body', \n",
    "                            'allergy_history', 'preferred_products', \n",
    "                            'avoided_products', 'specific_needs']\n",
    "\n",
    "for column in columns_to_clean:\n",
    "    products_df[column] = products_df[column].astype(str).apply(remove_punctuation)\n",
    "\n",
    "for column in columns_to_clean_profiles:\n",
    "    profiles_rating_df[column] = profiles_rating_df[column].astype(str).apply(remove_punctuation)"
   ]
  },
  {
   "cell_type": "code",
   "execution_count": null,
   "metadata": {},
   "outputs": [],
   "source": [
    "# Tokenizing and stop words removal\n",
    "stop_words = set(stopwords.words('indonesian'))\n",
    "\n",
    "def tokenize_and_remove_stopwords(text):\n",
    "    tokens = word_tokenize(text)\n",
    "    tokens = [word for word in tokens if word not in stop_words]\n",
    "    return tokens\n",
    "\n",
    "columns_to_tokenize_products = ['name', 'brand', 'skin_type', 'type', 'description']\n",
    "columns_to_tokenize_profiles = ['skin_type_face', 'hair_issue', 'skin_type_body', \n",
    "                                'allergy_history', 'preferred_products', \n",
    "                                'avoided_products', 'specific_needs']\n",
    "\n",
    "for column in columns_to_tokenize_products:\n",
    "    products_df[column] = products_df[column].apply(tokenize_and_remove_stopwords)\n",
    "\n",
    "for column in columns_to_tokenize_profiles:\n",
    "    profiles_rating_df[column] = profiles_rating_df[column].apply(tokenize_and_remove_stopwords)"
   ]
  },
  {
   "cell_type": "code",
   "execution_count": null,
   "metadata": {},
   "outputs": [],
   "source": [
    "# Stemming\n",
    "factory = StemmerFactory()\n",
    "stemmer = factory.create_stemmer()\n",
    "\n",
    "def stem_tokens(tokens):\n",
    "    return [stemmer.stem(token) for token in tokens]\n",
    "\n",
    "columns_to_stem_products = ['name', 'brand', 'skin_type', 'type', 'description']\n",
    "columns_to_stem_profiles = ['skin_type_face', 'hair_issue', 'skin_type_body', \n",
    "                            'allergy_history', 'preferred_products', \n",
    "                            'avoided_products', 'specific_needs'] \n",
    "\n",
    "for column in columns_to_stem_products:\n",
    "    products_df[column] = products_df[column].apply(stem_tokens)\n",
    "\n",
    "for column in columns_to_stem_profiles:\n",
    "    profiles_rating_df[column] = profiles_rating_df[column].apply(stem_tokens)"
   ]
  },
  {
   "cell_type": "code",
   "execution_count": null,
   "metadata": {},
   "outputs": [],
   "source": [
    "# Save preprocessed data back to CSV\n",
    "products_df.to_csv('../data/preprosessing_data/preprocessed_products.csv', index=False)\n",
    "profiles_rating_df.to_csv('../data/preprosessing_data/preprocessed_profiles_rating.csv', index=False)"
   ]
  }
 ],
 "metadata": {
  "kernelspec": {
   "display_name": "Python 3",
   "language": "python",
   "name": "python3"
  },
  "language_info": {
   "codemirror_mode": {
    "name": "ipython",
    "version": 3
   },
   "file_extension": ".py",
   "mimetype": "text/x-python",
   "name": "python",
   "nbconvert_exporter": "python",
   "pygments_lexer": "ipython3",
   "version": "3.11.4"
  }
 },
 "nbformat": 4,
 "nbformat_minor": 2
}
