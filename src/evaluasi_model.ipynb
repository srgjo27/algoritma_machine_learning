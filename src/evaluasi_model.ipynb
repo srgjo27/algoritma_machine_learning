{
 "cells": [
  {
   "cell_type": "markdown",
   "metadata": {},
   "source": [
    "Evaluasi Model Algoritma Content-Based Filltering menggunakan MAE"
   ]
  },
  {
   "cell_type": "code",
   "execution_count": 4,
   "metadata": {},
   "outputs": [
    {
     "name": "stdout",
     "output_type": "stream",
     "text": [
      "Mean Absolute Error (MAE): 0.6655845259917988\n"
     ]
    }
   ],
   "source": [
    "# Import library yang dibutuhkan\n",
    "import pandas as pd\n",
    "import numpy as np\n",
    "from sklearn.metrics import mean_absolute_error\n",
    "from sklearn.feature_extraction.text import TfidfVectorizer\n",
    "from sklearn.metrics.pairwise import cosine_similarity\n",
    "from preprocessing import dt_product_df\n",
    "\n",
    "# Fungsi untuk menghitung prediksi rating\n",
    "def calculate_predicted_rating(user_id, product_id):\n",
    "    user_data = dt_product_df[dt_product_df['user_id'] == user_id]\n",
    "    if product_id not in user_data['id'].values:\n",
    "        return None\n",
    "\n",
    "    user_rated_products = set(user_data['id'])\n",
    "    product_info = dt_product_df[dt_product_df['id'] == product_id].iloc[0]\n",
    "    group = dt_product_df[(dt_product_df['category_id'] == product_info['category_id']) & \n",
    "                          (dt_product_df['subcategory_id'] == product_info['subcategory_id'])]\n",
    "    tfidf_vectorizer = TfidfVectorizer()\n",
    "    attributes = group[['skin_type_face', 'hair_issue', 'skin_type_body']].astype(str).apply(lambda x: ' '.join(x), axis=1)\n",
    "    tfidf_matrix = tfidf_vectorizer.fit_transform(attributes)\n",
    "    rated_indices = [idx for idx, pid in enumerate(group['id']) if pid in user_rated_products]\n",
    "\n",
    "    sum_similarities = 0\n",
    "    weighted_sum = 0\n",
    "    query = group[group['id'] == product_id]\n",
    "    if query.empty:\n",
    "        return None\n",
    "\n",
    "    query_index = query.index[0]\n",
    "    if query_index >= tfidf_matrix.shape[0]:\n",
    "        return None\n",
    "\n",
    "    query_tfidf = tfidf_matrix[query_index]\n",
    "    cosine_similarities = cosine_similarity(query_tfidf, tfidf_matrix).flatten()\n",
    "\n",
    "    for idx in rated_indices:\n",
    "        similarity = cosine_similarities[idx]\n",
    "        rating = group.iloc[idx]['rating']\n",
    "        sum_similarities += similarity\n",
    "        weighted_sum += similarity * rating\n",
    "\n",
    "    if sum_similarities > 0:\n",
    "        return weighted_sum / sum_similarities\n",
    "    else:\n",
    "        return None\n",
    "\n",
    "# Fungsi untuk evaluasi model\n",
    "def evaluate_model():\n",
    "    user_ids = dt_product_df['user_id'].unique()\n",
    "\n",
    "    actual_ratings = []\n",
    "    predicted_ratings = []\n",
    "\n",
    "    for user_id in user_ids:\n",
    "        user_data = dt_product_df[dt_product_df['user_id'] == user_id]\n",
    "        for product_id in user_data['id'].values:\n",
    "            actual_rating = user_data[user_data['id'] == product_id]['rating'].values[0]\n",
    "            predicted_rating = calculate_predicted_rating(user_id, product_id)\n",
    "            if predicted_rating is not None:\n",
    "                actual_ratings.append(actual_rating)\n",
    "                predicted_ratings.append(predicted_rating)\n",
    "\n",
    "    mae = mean_absolute_error(actual_ratings, predicted_ratings)\n",
    "    return mae\n",
    "\n",
    "# Hitung MAE\n",
    "mae = evaluate_model()\n",
    "print(f'Mean Absolute Error (MAE): {mae}')"
   ]
  },
  {
   "cell_type": "markdown",
   "metadata": {},
   "source": [
    "1. Mengambil Nilai Rating Sebenarnya Pengguna untuk Item-Item Terkait:\n",
    "    - Kode ini mengambil rating sebenarnya dari dt_product_df yang sudah diproses sebelumnya.\n",
    "    - user_data mengandung semua data produk yang dirating oleh user tertentu.\n",
    "\n",
    "2. Menghitung Nilai Rating Prediksi Menggunakan Cosine Similarity:\n",
    "    - Fungsi calculate_predicted_rating bertanggung jawab untuk menghitung rating prediksi.\n",
    "    - Pertama, kode memeriksa apakah product_id ada dalam user_data yang dirating oleh user.\n",
    "    - Kode kemudian mengambil informasi produk (product_info) dan mengelompokkan produk berdasarkan category_id dan subcategory_id.\n",
    "    - Kode menghitung TF-IDF dari atribut yang relevan.\n",
    "    - Kode menghitung similaritas kosinus antara produk yang sedang dianalisis dengan semua produk lain dalam kelompok yang sama.\n",
    "\n",
    "3. Menghitung Prediksi Rating:\n",
    "    - Dalam fungsi calculate_predicted_rating, kode menghitung weighted sum dari rating yang sudah diberikan oleh user, menggunakan similaritas kosinus sebagai bobot.\n",
    "    - Jika sum_similarities lebih besar dari 0, kode mengembalikan nilai rata-rata berbobot sebagai prediksi rating.\n",
    "\n",
    "4. Mengumpulkan Rating Prediksi dan Rating Aktual:\n",
    "    - Dalam fungsi evaluate_model, kode mengiterasi semua user dan produk yang telah dirating oleh user tersebut.\n",
    "    - Kode mengumpulkan rating aktual dan prediksi dalam list actual_ratings dan predicted_ratings.\n",
    "\n",
    "5. Menghitung MAE:\n",
    "Kode menggunakan mean_absolute_error dari sklearn.metrics untuk menghitung MAE antara rating aktual dan prediksi."
   ]
  },
  {
   "cell_type": "markdown",
   "metadata": {},
   "source": [
    "Evaluasi Model Algoritma User-Based Filltering menggunakan MAE"
   ]
  },
  {
   "cell_type": "code",
   "execution_count": 5,
   "metadata": {},
   "outputs": [
    {
     "name": "stdout",
     "output_type": "stream",
     "text": [
      "Mean Absolute Error (MAE): 0.6337755885852256\n"
     ]
    }
   ],
   "source": [
    "from sklearn.metrics import mean_absolute_error\n",
    "from user_based import user_similarities, dt_profiles_rating_df\n",
    "\n",
    "def calculate_predicted_rating(user_id, product_id):\n",
    "    predictions = {}\n",
    "    similarity_sum = user_similarities.loc[user_id].sum()\n",
    "    \n",
    "    if similarity_sum > 0:\n",
    "        other_user_ratings = dt_profiles_rating_df[dt_profiles_rating_df['product_id'] == product_id]\n",
    "        rating_sum = 0\n",
    "        weight_sum = 0\n",
    "        for other_user_id in other_user_ratings['user_id']:\n",
    "            if other_user_id != user_id:\n",
    "                rating = other_user_ratings[other_user_ratings['user_id'] == other_user_id]['rating'].values[0]\n",
    "                similarity = user_similarities.loc[user_id, other_user_id]\n",
    "                rating_sum += rating * similarity\n",
    "                weight_sum += similarity\n",
    "        if weight_sum > 0:\n",
    "            return rating_sum / weight_sum\n",
    "\n",
    "    return None\n",
    "\n",
    "def evaluate_model():\n",
    "    user_ids = dt_profiles_rating_df['user_id'].unique()\n",
    "    actual_ratings = []\n",
    "    predicted_ratings = []\n",
    "\n",
    "    for user_id in user_ids:\n",
    "        user_data = dt_profiles_rating_df[dt_profiles_rating_df['user_id'] == user_id]\n",
    "        for product_id in user_data['product_id'].values:\n",
    "            actual_rating = user_data[user_data['product_id'] == product_id]['rating'].values[0]\n",
    "            predicted_rating = calculate_predicted_rating(user_id, product_id)\n",
    "            if predicted_rating is not None:\n",
    "                actual_ratings.append(actual_rating)\n",
    "                predicted_ratings.append(predicted_rating)\n",
    "\n",
    "    mae = mean_absolute_error(actual_ratings, predicted_ratings)\n",
    "    return mae\n",
    "\n",
    "# Hitung MAE\n",
    "mae = evaluate_model()\n",
    "print(f'Mean Absolute Error (MAE): {mae}')"
   ]
  },
  {
   "cell_type": "markdown",
   "metadata": {},
   "source": [
    "Evaluasi Model Algoritma User-Based Filltering menggunakan RMSE"
   ]
  },
  {
   "cell_type": "code",
   "execution_count": 6,
   "metadata": {},
   "outputs": [
    {
     "name": "stdout",
     "output_type": "stream",
     "text": [
      "Root Mean Squared Error (RMSE): 0.9447141705454563\n"
     ]
    }
   ],
   "source": [
    "from sklearn.metrics import mean_squared_error\n",
    "import numpy as np\n",
    "from user_based import user_similarities, dt_profiles_rating_df\n",
    "\n",
    "def calculate_predicted_rating(user_id, product_id):\n",
    "    predictions = {}\n",
    "    similarity_sum = user_similarities.loc[user_id].sum()\n",
    "    \n",
    "    if similarity_sum > 0:\n",
    "        other_user_ratings = dt_profiles_rating_df[dt_profiles_rating_df['product_id'] == product_id]\n",
    "        rating_sum = 0\n",
    "        weight_sum = 0\n",
    "        for other_user_id in other_user_ratings['user_id']:\n",
    "            if other_user_id != user_id:\n",
    "                rating = other_user_ratings[other_user_ratings['user_id'] == other_user_id]['rating'].values[0]\n",
    "                similarity = user_similarities.loc[user_id, other_user_id]\n",
    "                rating_sum += rating * similarity\n",
    "                weight_sum += similarity\n",
    "        if weight_sum > 0:\n",
    "            return rating_sum / weight_sum\n",
    "\n",
    "    return None\n",
    "\n",
    "def evaluate_model():\n",
    "    user_ids = dt_profiles_rating_df['user_id'].unique()\n",
    "    actual_ratings = []\n",
    "    predicted_ratings = []\n",
    "\n",
    "    for user_id in user_ids:\n",
    "        user_data = dt_profiles_rating_df[dt_profiles_rating_df['user_id'] == user_id]\n",
    "        for product_id in user_data['product_id'].values:\n",
    "            actual_rating = user_data[user_data['product_id'] == product_id]['rating'].values[0]\n",
    "            predicted_rating = calculate_predicted_rating(user_id, product_id)\n",
    "            if predicted_rating is not None:\n",
    "                actual_ratings.append(actual_rating)\n",
    "                predicted_ratings.append(predicted_rating)\n",
    "\n",
    "    mse = mean_squared_error(actual_ratings, predicted_ratings)\n",
    "    rmse = np.sqrt(mse)\n",
    "    return rmse\n",
    "\n",
    "# Hitung RMSE\n",
    "rmse = evaluate_model()\n",
    "print(f'Root Mean Squared Error (RMSE): {rmse}')"
   ]
  }
 ],
 "metadata": {
  "kernelspec": {
   "display_name": "Python 3",
   "language": "python",
   "name": "python3"
  },
  "language_info": {
   "codemirror_mode": {
    "name": "ipython",
    "version": 3
   },
   "file_extension": ".py",
   "mimetype": "text/x-python",
   "name": "python",
   "nbconvert_exporter": "python",
   "pygments_lexer": "ipython3",
   "version": "3.11.4"
  }
 },
 "nbformat": 4,
 "nbformat_minor": 2
}
